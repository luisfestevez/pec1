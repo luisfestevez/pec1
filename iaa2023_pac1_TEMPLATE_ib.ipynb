{
  "nbformat": 4,
  "nbformat_minor": 0,
  "metadata": {
    "colab": {
      "provenance": []
    },
    "kernelspec": {
      "name": "python3",
      "display_name": "Python 3"
    },
    "language_info": {
      "name": "python"
    }
  },
  "cells": [
    {
      "cell_type": "markdown",
      "source": [
        "<div style=\"width: 100%; clear: both;\">\n",
        "<div style=\"float: left; width: 50%;\">\n",
        "<img src=\"http://www.uoc.edu/portal/_resources/common/imatges/marca_UOC/UOC_Masterbrand.jpg\", align=\"left\">\n",
        "</div>\n",
        "<div style=\"float: right; width: 50%;\">\n",
        "<p style=\"margin: 0; padding-top: 22px; text-align:right;\">M1.304 · Inteligencia Artificial Avanzada / M0.539 · Inteligencia Artificial</p>\n",
        "<p style=\"margin: 0; text-align:right;\">MU Ingeniería Informática / MU Ingeniería Computacional y Matemática</p>\n",
        "<p style=\"margin: 0; text-align:right; padding-button: 100px;\">Estudios de Informática, Multimedia y Telecomunicación</p>\n",
        "</div>\n",
        "</div>\n",
        "<div style=\"width:100%;\">&nbsp;</div>"
      ],
      "metadata": {
        "id": "MqDuwzcKOrTd"
      }
    },
    {
      "cell_type": "markdown",
      "source": [
        "## PEC 1: SISTEMAS RECOMENDADORES Y AGRUPAMIENTOS"
      ],
      "metadata": {
        "id": "Y8gLDSV-OucY"
      }
    },
    {
      "cell_type": "markdown",
      "source": [
        "### Presentación\n",
        "\n",
        "En esta PEC trabajaréis con sistemas recomendadores y técnicas de agrupación."
      ],
      "metadata": {
        "id": "-3Chw6A7Oxwu"
      }
    },
    {
      "cell_type": "markdown",
      "source": [
        "### Competencias\n",
        "\n",
        "En este enunciado se trabajan las siguientes competencias generales de\n",
        "máster:\n",
        "- Capacidad para proyectar, calcular y diseñar productos, procesos e\n",
        "instalaciones en todos los ámbitos de la ingeniería informática.\n",
        "- Capacidad para el modelado matemático, cálculo y simulación en\n",
        "centros tecnológicos y de ingeniería de empresa, particularmente en\n",
        "tareas de investigación, desarrollo e innovación en todos los ámbitos\n",
        "relacionados con la ingeniería informática.\n",
        "- Capacidad para aplicar los conocimientos adquiridos y solucionar\n",
        "problemas en entornos nuevos o poco conocidos dentro de contextos\n",
        "más amplios y multidisciplinares, siendo capaces de integrar estos\n",
        "conocimientos.\n",
        "- Poseer habilidades para el aprendizaje continuo, autodirigido y\n",
        "autónomo.\n",
        "- Capacidad para modelar, diseñar, definir la arquitectura, implantar,\n",
        "gestionar, operar, administrar y mantener aplicaciones, redes,\n",
        "sistemas, servicios y contenidos informáticos.\n",
        "\n",
        "Las competencias específicas de esta asignatura que se trabajan en esta\n",
        "prueba son:\n",
        "- Entender qué es el aprendizaje automático en el contexto de la\n",
        "inteligencia artificial.\n",
        "- Distinguir entre los diferentes tipos y métodos de aprendizaje.\n",
        "- Aplicar las técnicas estudiadas a un caso real."
      ],
      "metadata": {
        "id": "6pJpyUpYO02k"
      }
    },
    {
      "cell_type": "markdown",
      "source": [
        "### Objetivos\n",
        "\n",
        "En esta PEC aprenderéis a explorar un nuevo conjunto de datos, cómo funcionan los sistemas recomendadores y cómo utilizar algoritmos agrupadores. Trabajaréis con funciones de similitud y utilizaréis la conocida librería _Surprise_ para desarrollar sistemas recomendadores."
      ],
      "metadata": {
        "id": "4Bk2tD9lO3ic"
      }
    },
    {
      "cell_type": "markdown",
      "source": [
        "### Recursos\n",
        "\n",
        "Esta PEC requiere los recursos siguientes:\n",
        "\n",
        "Archivos proporcionados:\n",
        "\n",
        "  * El archivo .ipynb que estáis leyendo y que deberéis completar para resolver la PEC.\n",
        "  * El archivo _video_games.csv_ que contiene los datos que utilizaréis.\n",
        "\n",
        "Materiales complementarios: \n",
        "  * Manual de teoría de la asignatura.\n",
        "  * Documentación de las librerías utilizadas (_NumPy_, _pandas_, _seaborn_, _surprise_,...)."
      ],
      "metadata": {
        "id": "r7ZiJG2iO52B"
      }
    },
    {
      "cell_type": "markdown",
      "source": [
        "###Entrega y criterios de evaluación\n",
        "\n",
        "La PEC se debe entregar antes del **11 abril del 2023**. \n",
        "\n",
        "La entrega debe incluir una versión editada de este cuaderno (.ipynb). Se recomienda el uso de Google Colab (https://colab.research.google.com/). El código de las soluciones a los ejercicios se debe **implementar y ejecutar** en las celdas de código proporcionadas y la respuestas justificadas se deben agregar a las celdas de texto correspondientes.\n",
        "\n",
        "Todas las respuestas deben estar correctamente razonadas y justificadas. **Las soluciones que no vayan acompañadas de la correspondiente respuesta razonada no serán evaluadas**.\n",
        "\n",
        "Cada ejercicio será evaluado teniendo en cuenta tanto la corrección técnica de la solución como la justificación y argumentación del procedimiento y los resultados."
      ],
      "metadata": {
        "id": "1HjwpbEKPEeo"
      }
    },
    {
      "cell_type": "markdown",
      "source": [
        "### Descripción de la PEC"
      ],
      "metadata": {
        "id": "M84HoEsjPPFR"
      }
    },
    {
      "cell_type": "markdown",
      "source": [
        "En esta PEC utilizaréis conceptos relacionados con el desarrollo de sistemas recomendadores y el uso de técnicas de agrupación. En los ejercicios propuestos utilizaréis un conjunto de datos reales de valoraciones de usuarios sobre videojuegos. El conjunto de datos es un extracto de Amazon Review Data (2018).\n",
        "\n",
        "> Justifying recommendations using distantly-labeled reviews and fined-grained aspects. Jianmo Ni, Jiacheng Li, Julian McAuley. Empirical Methods in Natural Language Processing (EMNLP), 2019.\n",
        "\n",
        "Podéis encontrar una descripción más detallada del conjunto de datos en el siguiente enlace:\n",
        "\n",
        "https://nijianmo.github.io/amazon/index.html\n",
        "\n",
        "Para cada entrada (fila), el extracto del conjunto de datos incluye la valoración de un usuario determinado sobre un videojuego concreto. Se utilizan identificadores para referirse tanto a usuarios como a videojuegos.\n",
        "\n",
        "Todas las soluciones a los ejercicios estarán basadas en librerías de código abierto."
      ],
      "metadata": {
        "id": "GU_sGgLb0skp"
      }
    },
    {
      "cell_type": "markdown",
      "source": [
        "#### Preparación del entorno\n",
        "\n",
        "En esta PEC deberéis programar en Python y utilizar populares librerías como _pandas_, _NumPy_ o _seaborn_. Encontraréis estas librerías preinstaladas en vuestro entorno de Google Colab.\n",
        "\n",
        "También utilizaréis la librería _Surprise_:\n",
        "\n",
        "* http://surpriselib.com/\n",
        "\n",
        "_Surprise_ no está preinstalada en vuestro entorno de Google Colab. Encontraréis instrucciones acerca de cómo instalarla cuando sea necesario en este mismo documento. \n",
        "\n",
        "Para cargar el conjunto de datos en vuestro entorno Google Colab deberéis editar y ejecutar la siguiente celda de código. Antes deberéis copiar el archivo _video_games.csv_ en vuestro Google Drive y asignar a la variable *remotePath* su ubicación (línea 10 de código).\n"
      ],
      "metadata": {
        "id": "L_bFiIdjPXMv"
      }
    },
    {
      "cell_type": "code",
      "execution_count": null,
      "metadata": {
        "id": "GZdsAUKpvQtt"
      },
      "outputs": [],
      "source": [
        "# FOLLOW THE PREVIOUS INSTRUCTIONS AND RUN THE CELL EVERY TIME YOU START WORKING\n",
        "\n",
        "localDataset=False\n",
        "\n",
        "if not localDataset:\n",
        "    from google.colab import drive\n",
        "    import shutil\n",
        "    import os\n",
        "    mountPoint='/content/drive'\n",
        "    remotePath='MyDrive/iaa2023/iaa2023_pac1'\n",
        "    localPath='.'\n",
        "    fileName='video_games.csv'\n",
        "    remoteFileName=os.path.join(mountPoint,remotePath,fileName)\n",
        "    localFileName=os.path.join(localPath,fileName)\n",
        "\n",
        "    print('[ COPYING DATA FROM GOOGLE DRIVE TO LOCAL COLAB SPACE ]')\n",
        "    if os.path.isfile(localFileName):\n",
        "      print('  * FILE %s ALREADY PRESENT.'%localFileName)\n",
        "    else:\n",
        "      if os.path.isdir(mountPoint):\n",
        "        print('  * GOOGLE DRIVE ALREADY MOUNTED AT %s'%mountPoint)\n",
        "      else:\n",
        "        print('  * MOUNTING GOOGLE DRIVE AT %s'%mountPoint)\n",
        "        drive.mount(mountPoint)\n",
        "      print('  * COPYING FROM %s TO %s'%(remoteFileName,localFileName))\n",
        "      shutil.copy(remoteFileName,localFileName)\n",
        "else:\n",
        "    print('[ WORKING LOCALLY ]')\n",
        "    localFileName='video_games.csv'\n",
        "    \n",
        "print('[ DONE ]')"
      ]
    },
    {
      "cell_type": "markdown",
      "source": [
        "## EJERCICIO 1"
      ],
      "metadata": {
        "id": "E3xylAUXeZUR"
      }
    },
    {
      "cell_type": "markdown",
      "source": [
        "Para empezar se debe leer el conjunto de datos y guardarlo como un _Dataframe_ de _Pandas_."
      ],
      "metadata": {
        "id": "1CHOUEfIRhx6"
      }
    },
    {
      "cell_type": "code",
      "source": [
        "import pandas as pd\n",
        "\n",
        "dataset = pd.read_csv(localFileName)"
      ],
      "metadata": {
        "id": "bY58FWgEwHQM"
      },
      "execution_count": null,
      "outputs": []
    },
    {
      "cell_type": "markdown",
      "source": [
        "**a) (0.75 puntos)** Una vez cargado el conjunto de datos en el entorno hay que familiarizarse con él. \n",
        "\n",
        "Completa la siguiente celda de código para guardar la información solicitada en las variables correspondientes (los tipos de datos deben corresponderse con el código proporcionado).\n",
        "\n",
        "* n_entries debe contener el número de entradas (filas) que incluye el conjunto de datos.\n",
        "* n_users debe contener la cantidad de usuarios diferentes incluidos en el conjunto de datos.\n",
        "* n_games debe contener la cantidad de videojuegos diferentes incluidos en el conjunto de datos.\n",
        "* n_duplicates debe contener la cantidad de parejas (usuario, videojuego) duplicadas en el conjunto de datos.\n",
        "* rating_min debe contener la valoración más baja incluida en el conjunto de datos.\n",
        "* rating_max debe contener la valoración más alta incluida en el conjunto de datos.\n",
        "* rating_avg debe contener la media de todas las valoraciones incluidas en el conjunto de datos.\n",
        "* rating_ex debe contener la valoración proporcionada por el usuario B00000INR2 al videojuego A1F4B2W8MHK92V."
      ],
      "metadata": {
        "id": "B5InFD1MI1IA"
      }
    },
    {
      "cell_type": "code",
      "source": [
        "# COMPLETE AND RUN CELL: YOUR CODE STARTS HERE\n",
        "\n",
        "\n",
        "# YOUR CODE ENDS HERE. DO NOT MODIFY THE CODE BELOW\n",
        "\n",
        "print('ENTRIES              : %d'%n_entries)\n",
        "print('DIFFERENT USERS      : %d'%n_users)\n",
        "print('DIFFERENT VIDEOGAMES : %d'%n_games)\n",
        "print('DUPLICATES           : %d'%n_duplicates)\n",
        "print('LOWEST RATING        : %d'%rating_min)\n",
        "print('HIGHEST RATING       : %d'%rating_max)\n",
        "print('AVERAGE RATING       : %.3f'%rating_avg)\n",
        "print('EXAMPLE RATING       : %d'%rating_ex)"
      ],
      "metadata": {
        "id": "kikL4bdMQVpQ"
      },
      "execution_count": null,
      "outputs": []
    },
    {
      "cell_type": "markdown",
      "source": [
        "AÑADE TUS COMENTARIOS AQUÍ"
      ],
      "metadata": {
        "id": "gm2-Qbx9VAlk"
      }
    },
    {
      "cell_type": "markdown",
      "source": [
        "**b) (0.5 puntos)** Crea un histograma que muestre la cantidad de videojuegos (eje y) con cada valoración (x axis).\n",
        "\n",
        "Nota: utiliza _seaborn.histplot_ asignando el parámetro *bins* para crear el histograma."
      ],
      "metadata": {
        "id": "UiwxpIcoMXYX"
      }
    },
    {
      "cell_type": "code",
      "source": [
        "# ADD AND RUN YOUR CODE HERE\n"
      ],
      "metadata": {
        "id": "uDwWFuPrCYwX"
      },
      "execution_count": null,
      "outputs": []
    },
    {
      "cell_type": "markdown",
      "source": [
        "AÑADE TUS COMENTARIOS AQUÍ"
      ],
      "metadata": {
        "id": "tOoTr0W5VBLC"
      }
    },
    {
      "cell_type": "markdown",
      "source": [
        "**c) (0.75 puntos)** Crea un diagrama de barras que incluya los 40 videojuegos con más valoraciones (eje x) y muestre la cantidad de usuarios que han valorado cada juego (eje y). Responde a la siguientes preguntas:\n",
        "\n",
        "* ¿Qué videojuego ha sido valorados por más usuarios? ¿Cuántos usuarios lo han valorado?\n",
        "* ¿Cuál es la media de la cantidad de valoraciones recibidas por un videojuego?\n",
        "\n",
        "Nota: utiliza _seaborn.barplot_ para crear el diagrama de barras."
      ],
      "metadata": {
        "id": "bPNIZXLHL3cR"
      }
    },
    {
      "cell_type": "code",
      "source": [
        "# ADD AND RUN YOUR CODE HERE\n"
      ],
      "metadata": {
        "id": "68TvvYX9X80x"
      },
      "execution_count": null,
      "outputs": []
    },
    {
      "cell_type": "markdown",
      "source": [
        "AÑADE TUS COMENTARIOS AQUÍ"
      ],
      "metadata": {
        "id": "UKKyJvWgVBs2"
      }
    },
    {
      "cell_type": "markdown",
      "source": [
        "**d) (0.5 puntos)** Crea un histograma que muestre la cantidad de videojuegos (eje y) que han sido valorados por cada cantidad de usuarios (x axis) en intervalos de 4 usuarios. Utiliza escala logarítmica en el eje y.\n",
        "\n",
        "Nota: utiliza _seaborn.histplot_ asignando el parámetro *binwidth* para crear el histograma."
      ],
      "metadata": {
        "id": "EngPamTKclF2"
      }
    },
    {
      "cell_type": "code",
      "source": [
        "# ADD AND RUN YOUR CODE HERE\n"
      ],
      "metadata": {
        "id": "h8Ef4Ex0ch1I"
      },
      "execution_count": null,
      "outputs": []
    },
    {
      "cell_type": "markdown",
      "source": [
        "AÑADE TUS COMENTARIOS AQUÍ"
      ],
      "metadata": {
        "id": "XzEN4BGUVCIY"
      }
    },
    {
      "cell_type": "markdown",
      "source": [
        "**e) (0.75 puntos)** Crea un diagrama de barras que incluya los 40 usuarios que más valoraciones han realizado (eje x) y muestre la cantidad de juegos que han valorado (eje y). Responde a la siguientes preguntas:\n",
        "\n",
        "* ¿Qué usuario ha valorado más juegos? ¿Cuántos videojuegos ha valorado?\n",
        "* ¿Cuál es la media de valoraciones proporcionadas por los usuarios?\n",
        "\n",
        "Nota: utiliza _seaborn.barplot_ para crear el diagrama de barras."
      ],
      "metadata": {
        "id": "MWJCvHlY5ULh"
      }
    },
    {
      "cell_type": "code",
      "source": [
        "# ADD AND RUN YOUR CODE HERE\n"
      ],
      "metadata": {
        "id": "QT-4_3OqzoXx"
      },
      "execution_count": null,
      "outputs": []
    },
    {
      "cell_type": "markdown",
      "source": [
        "AÑADE TUS COMENTARIOS AQUÍ"
      ],
      "metadata": {
        "id": "Edwp0wbPVCm0"
      }
    },
    {
      "cell_type": "markdown",
      "source": [
        "## EJERCICIO 2"
      ],
      "metadata": {
        "id": "jeFTDhjIeTVL"
      }
    },
    {
      "cell_type": "markdown",
      "source": [
        "**a) (1 punto)** Son necesarios diferentes sistemas recomendadores que se adapten a cada situación. Cuando no se dispone de información previa sobre un usuario específico, un posibilidad es recomendar los artículos más populares. \n",
        "\n",
        "* Completa el código proporcionado para implementar una función que recomiende los videojuegos más populares.\n",
        "\n",
        "* Comenta cómo afecta el valor de los parámetros de la función a la salida resultante (aunque se hagan pruebas con diferentes parámetres recuerda devolver el código a las especificaciones requeridas)."
      ],
      "metadata": {
        "id": "FU-iFMUDRS_5"
      }
    },
    {
      "cell_type": "code",
      "source": [
        "# COMPLETE AND RUN CELL\n",
        "\n",
        "def recommend_popular(df, nusers, nrecommendations):\n",
        "  \"\"\"\n",
        "    Function to provide recommendations based on popularity. Videogames are \n",
        "    sorted by number of user ratings and the most rated are shortlisted. \n",
        "    From that list, the videogames with the highest average rating make up the \n",
        "    final recommendation.\n",
        "\n",
        "    :param df: input dataframe\n",
        "    :param nusers: number of videogames shortlisted with higher number of user ratings\n",
        "    :param nrecommendations: number of recommendations (videogames)\n",
        "    :return videogame_list: list of videogame IDs to recommend\n",
        "    :return rating_list: list of average ratings corresponding to the recommended games\n",
        "    :return rate_cnt_list: list of number of ratings corresponding to the recommended games\n",
        "    \"\"\" \n",
        "\n",
        "  # IMPLEMENT THE FUNCTION: YOUR CODE STARTS HERE\n",
        "\n",
        "\n",
        "  # YOUR CODE ENDS HERE. DO NOT MODIFY THE CODE BELOW\n",
        "\n",
        "  return videogame_list, rating_list, rate_cnt_list\n",
        "\n",
        "thres_nusers = 50\n",
        "thres_weight = 10\n",
        "\n",
        "recommendations, ratings, rate_cnt = recommend_popular(dataset, thres_nusers, thres_weight)\n",
        "\n",
        "print(\"Recommendations (most popular)\")\n",
        "for x, y, z in zip(recommendations, ratings, rate_cnt):\n",
        "  print(\"Videogame: \", x, \", avg rating: \", y, \" no. ratings:\", z)"
      ],
      "metadata": {
        "id": "Vz21WYbp0zwJ"
      },
      "execution_count": null,
      "outputs": []
    },
    {
      "cell_type": "markdown",
      "source": [
        "AÑADE TUS COMENTARIOS AQUÍ"
      ],
      "metadata": {
        "id": "txYOI0ArVDcx"
      }
    },
    {
      "cell_type": "markdown",
      "source": [
        "**b) (0.75 punto)** En otras situaciones puede ser necesario un sistema que recomiende artículos similares a un artículo determinado que previamente ha sido valorado positivamente por el usuario. En ese caso, el primer paso es crear una tabla de similitudes que almacene las similitudes para todos los pares de artículos del conjunto de datos.\n",
        "\n",
        "Genera la tabla de similitudes (matriz *n_games* x *n_games*) que almacene las similitudes entre todos los videojuegos del conjunto de datos. Utiliza la distancia euclidiana como métrica para obtener las similitudes.\n",
        "\n",
        "Nota: utiliza _pandas.DataFrame.pivot_ para crear una tabla dinámica (\"_pivot table_\" de *n_games* x *n_users* donde la posición [*i*,*j*] corresponde a la valoración para el videojuego *i* del usuario *j*) que almacene todas las valoraciones (rellena con 0's las valoraciones no disponibles). Seguidamente, utiliza _sklearn.metrics.pairwise.euclidean_distances_ para calcular las distancias euclidianas que te permitirán obtener la tabla de similitudes (ten en cuenta que este paso puede realizarse de varias maneras, con costes computacionales muy diferentes)."
      ],
      "metadata": {
        "id": "9zUZDzGuJ0wB"
      }
    },
    {
      "cell_type": "code",
      "source": [
        "# ADD AND RUN YOUR CODE HERE\n"
      ],
      "metadata": {
        "id": "fkn5mAJ3XIx-"
      },
      "execution_count": null,
      "outputs": []
    },
    {
      "cell_type": "markdown",
      "source": [
        "AÑADE TUS COMENTARIOS AQUÍ"
      ],
      "metadata": {
        "id": "9kturtI2VD36"
      }
    },
    {
      "cell_type": "markdown",
      "source": [
        "**c) (0.75 puntos)** Utiliza la tabla dinámica y la tabla de similitudes generadas en la pregunta anterior para completar el código proporcionado en la siguiente celda e implementar una función que recomiendo los videojuegos más similares a un juego determinado."
      ],
      "metadata": {
        "id": "tp6toZKHLh9z"
      }
    },
    {
      "cell_type": "code",
      "source": [
        "import numpy as np\n",
        "\n",
        "def recommend_similar_videogames(game_id, min_similarity, nrecommendations):\n",
        "  \"\"\"\n",
        "    Function to provide recommendations based on similarity.\n",
        "\n",
        "    :param game_id: videogame ID\n",
        "    :param min_similarity: minimum similarity 'S' to include recommendation, 0<S<=1\n",
        "    :param nrecommendations: number of recommendations (similar videogames)\n",
        "    :return similar_games: recommendation as a list of videogame IDs\n",
        "    :return sim_values: simmilarities for the recommendations\n",
        "    \"\"\" \n",
        "\n",
        "  # IMPLEMENT THE FUNCTION: YOUR CODE STARTS HERE\n",
        "\n",
        "\n",
        "  # YOUR CODE ENDS HERE. DO NOT MODIFY THE CODE BELOW\n",
        "\n",
        "  return similar_games, sim_values\n",
        "\n",
        "artist_id = \"A24TYXTKY55PBE\"\n",
        "nrecommendations = 5\n",
        "min_sim = 0.8\n",
        "\n",
        "print(\"Recommendations:\")\n",
        "sim_games, sim_values = recommend_similar_videogames(artist_id, min_sim, nrecommendations)\n",
        "for x, y in zip(sim_games, sim_values):\n",
        "  print(\"Videogame: \", x, \", similarity: \", y)"
      ],
      "metadata": {
        "id": "Dke0ZdtmKGc3"
      },
      "execution_count": null,
      "outputs": []
    },
    {
      "cell_type": "markdown",
      "source": [
        "AÑADE TUS COMENTARIOS AQUÍ"
      ],
      "metadata": {
        "id": "y7IIK_42VE_u"
      }
    },
    {
      "cell_type": "markdown",
      "source": [
        "**d) (0.75 puntos)**\n",
        "Analiza y comenta el diseño propuesto en las preguntas 2.b y 2.c con especial atención a sus debilidades y posibles mejoras."
      ],
      "metadata": {
        "id": "BrIV1BB3Lr7J"
      }
    },
    {
      "cell_type": "markdown",
      "source": [
        "AÑADE TUS COMENTARIOS AQUÍ"
      ],
      "metadata": {
        "id": "F0b7OboEVFbL"
      }
    },
    {
      "cell_type": "markdown",
      "source": [
        "## EJERCICIO 3"
      ],
      "metadata": {
        "id": "VaTRqzVLNKq0"
      }
    },
    {
      "cell_type": "markdown",
      "source": [
        "En este ejercicio se trabajará con la librería _Surprise_. Ejecuta la siguiente celda para instalarla."
      ],
      "metadata": {
        "id": "Xw0kuq7BOePo"
      }
    },
    {
      "cell_type": "code",
      "source": [
        "!pip install surprise"
      ],
      "metadata": {
        "id": "GcsjLt71OgYB"
      },
      "execution_count": null,
      "outputs": []
    },
    {
      "cell_type": "markdown",
      "source": [
        "**a) (1 puntos)**\n",
        "Utiliza _Surprise_ y el 80 % de los datos para entrenar los siguientes algoritmos (con los parámetros por defecto) para predecir valoraciones:\n",
        "\n",
        "* KNNBasic (_surprise.KNNBasic_)\n",
        "* KNNBaseline (_surprise.KNNBaseline_)\n",
        "* KNNWithMeans (_surprise.KNNWithMeans_)\n",
        "* NormalPredictor (_surprise.NormalPredictor_)\n",
        "\n",
        "Utilizando el error cuadrático medio (Root Mean Square Error) como métrica, ¿que rendimiento muestra cada algoritmo en el 20 % de datos restante (conjunto de test)?"
      ],
      "metadata": {
        "id": "lfW8DRdyPT8x"
      }
    },
    {
      "cell_type": "code",
      "source": [
        "# ADD AND RUN YOUR CODE HERE\n"
      ],
      "metadata": {
        "id": "TDaTMRC0Pafx"
      },
      "execution_count": null,
      "outputs": []
    },
    {
      "cell_type": "markdown",
      "source": [
        "AÑADE TUS COMENTARIOS AQUÍ"
      ],
      "metadata": {
        "id": "XZmWpunjVGYb"
      }
    },
    {
      "cell_type": "markdown",
      "source": [
        "**b) (1 puntos)** Utilizando la librería _Surprise_ y el conjunto de datos proporcionado, entrena y valida con validación cruzada (5 _fold_) el algoritmo SVD utilizando todas las combinaciones posibles de los siguientes valores de parámetros:.\n",
        "\n",
        "* Number of epochs: [12, 20], learning rates: [0.004, 0.008, 0.012], regularisation terms: [0.02, 0.05, 0.1], number of factors: [60, 100]\n",
        "\n",
        "Contesta a la siguientes preguntas:\n",
        "\n",
        "* ¿Qué combinación de parámetros proporciona el modelo con mejores resultados según el error cuadrático medio (Root Mean Squared Error)? ¿Qué resultados alcanza? Compara estos resultados con los obtenidos en la pregunta anterior (3.a).\n",
        "* ¿Qué combinación de parámetros proporciona el modelo con mejores resultados según el error absoluto medio (Mean Absolute Error)? ¿Qué resultados alcanza?\n",
        "\n",
        "Nota: Utiliza _surprise.model_selection.GridSearchCV_. Los tiempos de ejecución pueden estar por encima de un minuto."
      ],
      "metadata": {
        "id": "G0Qa7O1lNM-S"
      }
    },
    {
      "cell_type": "code",
      "source": [
        "# ADD AND RUN YOUR CODE HERE\n"
      ],
      "metadata": {
        "id": "b-hnRmX5mf8G"
      },
      "execution_count": null,
      "outputs": []
    },
    {
      "cell_type": "markdown",
      "source": [
        "AÑADE TUS COMENTARIOS AQUÍ"
      ],
      "metadata": {
        "id": "BL6fX5cBVG3k"
      }
    },
    {
      "cell_type": "markdown",
      "source": [
        "## EJERCICIO 4"
      ],
      "metadata": {
        "id": "T2JUP6gLOqRc"
      }
    },
    {
      "cell_type": "markdown",
      "source": [
        "**a) (0.75 puntos)**\n",
        "Genera un diagrama de dispersión que muestre la distribución de los videojuegos basandose en el número total de valoraciones recibidas (x axis) y su valoración media (eje y).\n",
        "\n",
        "Nota: utiliza _seaborn.scatterplot_ para generar el diagrama de dispersión."
      ],
      "metadata": {
        "id": "TihbqGqOOs5v"
      }
    },
    {
      "cell_type": "code",
      "source": [
        "# ADD AND RUN YOUR CODE HERE\n"
      ],
      "metadata": {
        "id": "7Tf35YdoOuh1"
      },
      "execution_count": null,
      "outputs": []
    },
    {
      "cell_type": "markdown",
      "source": [
        "AÑADE TUS COMENTARIOS AQUÍ"
      ],
      "metadata": {
        "id": "pTwN8xd7VHWA"
      }
    },
    {
      "cell_type": "markdown",
      "source": [
        "**b) (0.75 puntos)** Agrupa los datos visualizados en la pregunta anterior utilizando el algoritmo K-means con k=2 y agrupación aglomerativa con 2 grupos (_clusters_). Utiliza dos diagramas de dispersión, incluyéndolos en una única figura (izquierda y derecha), para representar gráficamente los resultados de k-means (izquierda) y del método aglomerativo (derecha). Utiliza diferentes colores para las muestras atribuidas a cada _cluster_ y comenta los resultados obtenidos.\n",
        "\n",
        "Nota: utiliza _seaborn.scatterplot_ para generar el diagrama de dispersión."
      ],
      "metadata": {
        "id": "IpcDyYi-OtwZ"
      }
    },
    {
      "cell_type": "code",
      "source": [
        "# ADD AND RUN YOUR CODE HERE\n"
      ],
      "metadata": {
        "id": "3y5e1xASOvOL"
      },
      "execution_count": null,
      "outputs": []
    },
    {
      "cell_type": "markdown",
      "source": [
        "AÑADE TUS COMENTARIOS AQUÍ"
      ],
      "metadata": {
        "id": "0zL_Mi3nVIEw"
      }
    }
  ]
}